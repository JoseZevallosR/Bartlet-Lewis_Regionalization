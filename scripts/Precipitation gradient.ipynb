{
 "cells": [
  {
   "cell_type": "code",
   "execution_count": 7,
   "id": "088c9a83",
   "metadata": {},
   "outputs": [],
   "source": [
    "%config Completer.use_jedi = False\n",
    "import numpy as np\n",
    "from osgeo import gdal\n",
    "from osgeo import gdal_array\n",
    "from osgeo import osr\n",
    "import matplotlib.pylab as plt\n",
    "%matplotlib qt "
   ]
  },
  {
   "cell_type": "code",
   "execution_count": 120,
   "id": "77fd2759",
   "metadata": {},
   "outputs": [],
   "source": [
    "#https://stackoverflow.com/questions/42776583/superimpose-matplotlib-quiver-on-image"
   ]
  },
  {
   "cell_type": "markdown",
   "id": "6d5a3f22",
   "metadata": {},
   "source": [
    "# Load precipitation data"
   ]
  },
  {
   "cell_type": "code",
   "execution_count": null,
   "id": "8bbe8afd",
   "metadata": {},
   "outputs": [],
   "source": [
    "#MBLRP"
   ]
  },
  {
   "cell_type": "code",
   "execution_count": 128,
   "id": "42a83f19",
   "metadata": {},
   "outputs": [],
   "source": [
    "img_ds=gdal.Open('D:/Proyectos_GitHub/Bartlet-Lewis_Regionalization/output/CV_maps/average_rainfall_deph_storm.tif')\n",
    "average_deph_pp=img_ds.GetRasterBand(1).ReadAsArray()\n",
    "average_deph_pp[average_deph_pp<0]=0\n",
    "#plt.figure(figsize=(15,10))\n",
    "dy1, dx1 = np.gradient(average_deph_pp)\n",
    "#plt.imshow(average_deph_pp)\n",
    "#plt.quiver(dx, -dy)\n",
    "#plt.show()"
   ]
  },
  {
   "cell_type": "code",
   "execution_count": 129,
   "id": "025d09bc",
   "metadata": {},
   "outputs": [],
   "source": [
    "# PISCO"
   ]
  },
  {
   "cell_type": "code",
   "execution_count": 130,
   "id": "aba010ab",
   "metadata": {},
   "outputs": [],
   "source": [
    "img_ds=gdal.Open('D:/Proyectos_GitHub/Bartlet-Lewis_Regionalization/output/CV_maps/pisco_feb.tif')\n",
    "clim_pisco_feb=img_ds.GetRasterBand(1).ReadAsArray()\n",
    "clim_pisco_feb[clim_pisco_feb<0]=0\n",
    "#plt.figure(figsize=(15,10))\n",
    "dy2, dx2 = np.gradient(clim_pisco_feb)\n",
    "#plt.imshow(clim_pisco_feb)\n",
    "#plt.quiver(dx, -dy)\n",
    "#plt.show()"
   ]
  },
  {
   "cell_type": "code",
   "execution_count": 131,
   "id": "727e195d",
   "metadata": {},
   "outputs": [],
   "source": [
    "fig, (ax1, ax2) = plt.subplots(1, 2)\n",
    "fig.suptitle('Precipitation gradients for february')\n",
    "ax1.imshow(average_deph_pp)\n",
    "ax1.quiver(dx1, -dy1)\n",
    "ax1.set_title('MBLRP Febrero')\n",
    "ax2.imshow(clim_pisco_feb)\n",
    "ax2.quiver(dx2, -dy2)\n",
    "ax2.set_title('PISCO Febrero')\n",
    "plt.show()"
   ]
  },
  {
   "cell_type": "code",
   "execution_count": null,
   "id": "e8d5c03d",
   "metadata": {},
   "outputs": [],
   "source": []
  }
 ],
 "metadata": {
  "kernelspec": {
   "display_name": "Python 3",
   "language": "python",
   "name": "python3"
  },
  "language_info": {
   "codemirror_mode": {
    "name": "ipython",
    "version": 3
   },
   "file_extension": ".py",
   "mimetype": "text/x-python",
   "name": "python",
   "nbconvert_exporter": "python",
   "pygments_lexer": "ipython3",
   "version": "3.8.5"
  }
 },
 "nbformat": 4,
 "nbformat_minor": 5
}

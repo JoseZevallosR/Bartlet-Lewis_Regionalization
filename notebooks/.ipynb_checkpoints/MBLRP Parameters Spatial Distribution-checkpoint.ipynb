{
 "cells": [
  {
   "cell_type": "code",
   "execution_count": 8,
   "id": "d537c9bf",
   "metadata": {},
   "outputs": [
    {
     "name": "stderr",
     "output_type": "stream",
     "text": [
      "Regions defined for each Polygons\n",
      "\n"
     ]
    },
    {
     "data": {
      "image/png": "[encoded data removed]",
      "text/plain": [
       "plot without title"
      ]
     },
     "metadata": {
      "image/png": {
       "height": 37.5,
       "width": 50
      }
     },
     "output_type": "display_data"
    }
   ],
   "source": [
    "source('D:/Proyectos_GitHub/Bartlet-Lewis_Regionalization/src/plotHelpers.R')\n",
    "\n",
    "Peru <- shapefile(\"d:/Proyectos_GitHub/Bartlet-Lewis_Regionalization/data/Area_estudio/Limite Perú250_gcs.shp\")\n",
    "# Next the shapefile has to be converted to a dataframe for use in ggplot2\n",
    "shapefile_df <- fortify(Peru)\n",
    "\n",
    "\n",
    "a=expression(alpha)\n",
    "l=expression(paste(lambda,'(1/hr)'))\n",
    "v=expression(paste(upsilon,'(hr)'))\n",
    "k=expression(kappa)\n",
    "phi=expression(phi)\n",
    "u=expression(paste(mu,'(mm/hr)'))\n",
    "\n",
    "\n",
    "#feb\n",
    "dir1='d:/Proyectos_GitHub/Bartlet-Lewis_Regionalization/output/CV_maps/feb/parametros_1_feb.tif'\n",
    "dir2='d:/Proyectos_GitHub/Bartlet-Lewis_Regionalization/output/CV_maps/feb/parametros_2_feb.tif'\n",
    "dir3='d:/Proyectos_GitHub/Bartlet-Lewis_Regionalization/output/CV_maps/feb/parametros_3_feb.tif'\n",
    "dir4='d:/Proyectos_GitHub/Bartlet-Lewis_Regionalization/output/CV_maps/feb/parametros_4_feb.tif'\n",
    "dir5='d:/Proyectos_GitHub/Bartlet-Lewis_Regionalization/output/CV_maps/feb/parametros_5_feb.tif'\n",
    "dir6='d:/Proyectos_GitHub/Bartlet-Lewis_Regionalization/output/CV_maps/feb/parametros_6_feb.tif'\n",
    "\n",
    "c(df.map,legenda):=raster_to_df(dir1,10)\n",
    "mapa1=plot_map(df.map,legenda,titulo = a,shapefile_df)\n",
    "c(df.map,legenda):=raster_to_df(dir2,10)\n",
    "mapa2=plot_map(df.map,legenda,titulo = l,shapefile_df)\n",
    "c(df.map,legenda):=raster_to_df(dir3,10)\n",
    "mapa3=plot_map(df.map,legenda,titulo = v,shapefile_df)\n",
    "c(df.map,legenda):=raster_to_df(dir4,10)\n",
    "mapa4=plot_map(df.map,legenda,titulo = k,shapefile_df)\n",
    "c(df.map,legenda):=raster_to_df(dir5,10)\n",
    "mapa5=plot_map(df.map,legenda,titulo = phi,shapefile_df)\n",
    "c(df.map,legenda):=raster_to_df(dir6,10)\n",
    "mapa6=plot_map(df.map,legenda,titulo = u,shapefile_df)\n",
    "figure1=grid.arrange(arrangeGrob(mapa1,mapa2,mapa3,mapa4,mapa5,mapa6,nrow = 3))\n"
   ]
  },
  {
   "cell_type": "code",
   "execution_count": 12,
   "id": "37d9c3af",
   "metadata": {},
   "outputs": [
    {
     "data": {
      "text/plain": [
       "TableGrob (1 x 1) \"arrange\": 1 grobs\n",
       "  z     cells    name            grob\n",
       "1 1 (1-1,1-1) arrange gtable[arrange]"
      ]
     },
     "metadata": {},
     "output_type": "display_data"
    }
   ],
   "source": [
    "figure1"
   ]
  },
  {
   "cell_type": "code",
   "execution_count": null,
   "id": "2012ce84",
   "metadata": {},
   "outputs": [],
   "source": []
  }
 ],
 "metadata": {
  "kernelspec": {
   "display_name": "R",
   "language": "R",
   "name": "ir"
  },
  "language_info": {
   "codemirror_mode": "r",
   "file_extension": ".r",
   "mimetype": "text/x-r-source",
   "name": "R",
   "pygments_lexer": "r",
   "version": "4.0.3"
  }
 },
 "nbformat": 4,
 "nbformat_minor": 5
}
